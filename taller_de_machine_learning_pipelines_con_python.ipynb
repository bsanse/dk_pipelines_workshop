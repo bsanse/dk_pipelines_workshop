{
 "cells": [
  {
   "cell_type": "markdown",
   "metadata": {},
   "source": [
    "<img style=\"float: right;\" src=\"imgs/kschool_logo.png\">\n",
    "\n",
    "# Taller de Machine Lerning Pipelines con Python\n",
    "<p style='text-align: right;'>Beñat San Sebastián</p>\n",
    "\n",
    "### Introducción\n",
    "\n",
    "Los pipelines de machine learning se utilizan para automatizar los flujos de trabajo. Funcionan de tal manera que que se atomiza y encapsula cada uno de los procesos de tal manera que la salida de uno de los pasos es consumida como entrada del siguiente paso. Un ejemplo clásico de un pipeline de Machine Learning sería el siguiente:\n",
    "\n",
    "![Pipeline de Machine Learning](imgs/machine_learning_pipeline.png)\n",
    "\n",
    "En este taller vamos a ver un ejemplo de como utilizar los Pipelines de scikit-learn para el preprocesado, ingeniería de variables y entrenamiento de nuestros modelos de machine learning.\n",
    "\n",
    "Las principales ventajas de los pipelines son las siguientes: \n",
    "\n",
    "- El flujo de trabajo es mucho más fácil de leer y de entender\n",
    "- Fácil utilización de transformadores públicos\n",
    "- Fácil reutilización de transformadores propios\n",
    "- Al tener el código atomizado es fácil hacer pruebas cambiando una pieza por otra\n",
    "- Facilidad de productivización\n",
    "\n",
    "\n"
   ]
  },
  {
   "cell_type": "markdown",
   "metadata": {},
   "source": [
    "A continucación importamos las librerías que vamos a utilizar:"
   ]
  },
  {
   "cell_type": "code",
   "execution_count": 1,
   "metadata": {},
   "outputs": [],
   "source": [
    "import pandas as pd\n",
    "import numpy as np\n",
    "from sklearn.pipeline import Pipeline\n",
    "from sklearn.model_selection import train_test_split, RandomizedSearchCV\n",
    "from sklearn.impute import SimpleImputer\n",
    "from sklearn.compose import ColumnTransformer\n",
    "from sklearn.preprocessing import StandardScaler, FunctionTransformer\n",
    "from sklearn.ensemble import RandomForestRegressor\n",
    "from sklearn.linear_model import LinearRegression\n",
    "from sklearn.metrics import mean_squared_error\n",
    "from sklearn.cluster import KMeans\n",
    "from sklearn.base import BaseEstimator, TransformerMixin\n",
    "from category_encoders import OrdinalEncoder, LeaveOneOutEncoder\n",
    "import matplotlib.pyplot as plt\n",
    "import joblib"
   ]
  },
  {
   "cell_type": "markdown",
   "metadata": {},
   "source": [
    "### Nuestro ejemplo: Precio de venta de viviendas en Melbourne\n",
    "\n",
    "Podéis descargar el dataset que usaremos en este enlace:\n",
    "[https://www.kaggle.com/dansbecker/melbourne-housing-snapshot](https://www.kaggle.com/dansbecker/melbourne-housing-snapshot)\n",
    "\n",
    "Las variables con las que vamos a trabajar son las siguientes:\n",
    "\n",
    "- **Rooms:** Número de habitaciones\n",
    "- **Type:** br - habitaciones; h - chalet,; u - unidad, duplex; t - adosado; dev site - en desarrollo; o res - otras\n",
    "- **SellerG:** Agente Inmobiliario\n",
    "- **Distance:** Distancia al centro de la ciudad\n",
    "- **Regionname:** Nombre de la región\n",
    "- **Propertycount:** Número de viviendas en el barrio\n",
    "- **Bedroom2 :** Número de dormitorios (fuente distinta)\n",
    "- **Bathroom:** Número de aseos\n",
    "- **Car:** Plazas de aparcamiento\n",
    "- **Landsize:** Superficie del terreno\n",
    "- **BuildingArea:** Superficie de la vivienda\n",
    "- **CouncilArea:** Junta de Gobierno del área\n",
    "- **Price:** Precio en dólares (nuestra variable objetivo)\n",
    "\n",
    "Procedemos a leer y visualizar el dataset:"
   ]
  },
  {
   "cell_type": "code",
   "execution_count": 2,
   "metadata": {},
   "outputs": [
    {
     "data": {
      "text/html": [
       "<div>\n",
       "<style scoped>\n",
       "    .dataframe tbody tr th:only-of-type {\n",
       "        vertical-align: middle;\n",
       "    }\n",
       "\n",
       "    .dataframe tbody tr th {\n",
       "        vertical-align: top;\n",
       "    }\n",
       "\n",
       "    .dataframe thead th {\n",
       "        text-align: right;\n",
       "    }\n",
       "</style>\n",
       "<table border=\"1\" class=\"dataframe\">\n",
       "  <thead>\n",
       "    <tr style=\"text-align: right;\">\n",
       "      <th></th>\n",
       "      <th>Suburb</th>\n",
       "      <th>Rooms</th>\n",
       "      <th>Type</th>\n",
       "      <th>Price</th>\n",
       "      <th>SellerG</th>\n",
       "      <th>Distance</th>\n",
       "      <th>Postcode</th>\n",
       "      <th>Bedroom2</th>\n",
       "      <th>Bathroom</th>\n",
       "      <th>Car</th>\n",
       "      <th>Landsize</th>\n",
       "      <th>BuildingArea</th>\n",
       "      <th>YearBuilt</th>\n",
       "      <th>CouncilArea</th>\n",
       "      <th>Lattitude</th>\n",
       "      <th>Longtitude</th>\n",
       "      <th>Regionname</th>\n",
       "      <th>Propertycount</th>\n",
       "    </tr>\n",
       "  </thead>\n",
       "  <tbody>\n",
       "    <tr>\n",
       "      <th>0</th>\n",
       "      <td>Abbotsford</td>\n",
       "      <td>2</td>\n",
       "      <td>h</td>\n",
       "      <td>1480000.0</td>\n",
       "      <td>Biggin</td>\n",
       "      <td>2.5</td>\n",
       "      <td>3067.0</td>\n",
       "      <td>2</td>\n",
       "      <td>1</td>\n",
       "      <td>1.0</td>\n",
       "      <td>202.0</td>\n",
       "      <td>NaN</td>\n",
       "      <td>NaN</td>\n",
       "      <td>Yarra</td>\n",
       "      <td>-37.7996</td>\n",
       "      <td>144.9984</td>\n",
       "      <td>Northern Metropolitan</td>\n",
       "      <td>4019.0</td>\n",
       "    </tr>\n",
       "    <tr>\n",
       "      <th>1</th>\n",
       "      <td>Abbotsford</td>\n",
       "      <td>2</td>\n",
       "      <td>h</td>\n",
       "      <td>1035000.0</td>\n",
       "      <td>Biggin</td>\n",
       "      <td>2.5</td>\n",
       "      <td>3067.0</td>\n",
       "      <td>2</td>\n",
       "      <td>1</td>\n",
       "      <td>0.0</td>\n",
       "      <td>156.0</td>\n",
       "      <td>79.0</td>\n",
       "      <td>1900.0</td>\n",
       "      <td>Yarra</td>\n",
       "      <td>-37.8079</td>\n",
       "      <td>144.9934</td>\n",
       "      <td>Northern Metropolitan</td>\n",
       "      <td>4019.0</td>\n",
       "    </tr>\n",
       "    <tr>\n",
       "      <th>2</th>\n",
       "      <td>Abbotsford</td>\n",
       "      <td>3</td>\n",
       "      <td>h</td>\n",
       "      <td>1465000.0</td>\n",
       "      <td>Biggin</td>\n",
       "      <td>2.5</td>\n",
       "      <td>3067.0</td>\n",
       "      <td>3</td>\n",
       "      <td>2</td>\n",
       "      <td>0.0</td>\n",
       "      <td>134.0</td>\n",
       "      <td>150.0</td>\n",
       "      <td>1900.0</td>\n",
       "      <td>Yarra</td>\n",
       "      <td>-37.8093</td>\n",
       "      <td>144.9944</td>\n",
       "      <td>Northern Metropolitan</td>\n",
       "      <td>4019.0</td>\n",
       "    </tr>\n",
       "    <tr>\n",
       "      <th>3</th>\n",
       "      <td>Abbotsford</td>\n",
       "      <td>3</td>\n",
       "      <td>h</td>\n",
       "      <td>850000.0</td>\n",
       "      <td>Biggin</td>\n",
       "      <td>2.5</td>\n",
       "      <td>3067.0</td>\n",
       "      <td>3</td>\n",
       "      <td>2</td>\n",
       "      <td>1.0</td>\n",
       "      <td>94.0</td>\n",
       "      <td>NaN</td>\n",
       "      <td>NaN</td>\n",
       "      <td>Yarra</td>\n",
       "      <td>-37.7969</td>\n",
       "      <td>144.9969</td>\n",
       "      <td>Northern Metropolitan</td>\n",
       "      <td>4019.0</td>\n",
       "    </tr>\n",
       "    <tr>\n",
       "      <th>4</th>\n",
       "      <td>Abbotsford</td>\n",
       "      <td>4</td>\n",
       "      <td>h</td>\n",
       "      <td>1600000.0</td>\n",
       "      <td>Nelson</td>\n",
       "      <td>2.5</td>\n",
       "      <td>3067.0</td>\n",
       "      <td>3</td>\n",
       "      <td>1</td>\n",
       "      <td>2.0</td>\n",
       "      <td>120.0</td>\n",
       "      <td>142.0</td>\n",
       "      <td>2014.0</td>\n",
       "      <td>Yarra</td>\n",
       "      <td>-37.8072</td>\n",
       "      <td>144.9941</td>\n",
       "      <td>Northern Metropolitan</td>\n",
       "      <td>4019.0</td>\n",
       "    </tr>\n",
       "  </tbody>\n",
       "</table>\n",
       "</div>"
      ],
      "text/plain": [
       "       Suburb  Rooms Type      Price SellerG  Distance Postcode  Bedroom2  \\\n",
       "0  Abbotsford      2    h  1480000.0  Biggin       2.5   3067.0         2   \n",
       "1  Abbotsford      2    h  1035000.0  Biggin       2.5   3067.0         2   \n",
       "2  Abbotsford      3    h  1465000.0  Biggin       2.5   3067.0         3   \n",
       "3  Abbotsford      3    h   850000.0  Biggin       2.5   3067.0         3   \n",
       "4  Abbotsford      4    h  1600000.0  Nelson       2.5   3067.0         3   \n",
       "\n",
       "   Bathroom  Car  Landsize  BuildingArea  YearBuilt CouncilArea  Lattitude  \\\n",
       "0         1  1.0     202.0           NaN        NaN       Yarra   -37.7996   \n",
       "1         1  0.0     156.0          79.0     1900.0       Yarra   -37.8079   \n",
       "2         2  0.0     134.0         150.0     1900.0       Yarra   -37.8093   \n",
       "3         2  1.0      94.0           NaN        NaN       Yarra   -37.7969   \n",
       "4         1  2.0     120.0         142.0     2014.0       Yarra   -37.8072   \n",
       "\n",
       "   Longtitude             Regionname Propertycount  \n",
       "0    144.9984  Northern Metropolitan        4019.0  \n",
       "1    144.9934  Northern Metropolitan        4019.0  \n",
       "2    144.9944  Northern Metropolitan        4019.0  \n",
       "3    144.9969  Northern Metropolitan        4019.0  \n",
       "4    144.9941  Northern Metropolitan        4019.0  "
      ]
     },
     "execution_count": 2,
     "metadata": {},
     "output_type": "execute_result"
    }
   ],
   "source": [
    "df= pd.read_csv('data/melb_data.csv',\n",
    "               usecols=[\n",
    "                   'Suburb', 'Rooms', 'Type', 'SellerG',\n",
    "                   'Distance', 'Postcode', 'Bedroom2', 'Bathroom', \n",
    "                   'Car', 'Landsize', 'BuildingArea', 'YearBuilt', \n",
    "                   'CouncilArea', 'Lattitude', 'Longtitude', 'Regionname', \n",
    "                   'Propertycount','Price'\n",
    "               ],\n",
    "               dtype={\n",
    "                   'Suburb':'str',\n",
    "                   'Rooms':'int',\n",
    "                   'Type':'str',\n",
    "                   'SellerG':'str',\n",
    "                   'Distance':'float',\n",
    "                   'Postcode':'str',\n",
    "                   'Bedroom2':'int',\n",
    "                   'Bathroom':'int',\n",
    "                   'Car':'float',\n",
    "                   'Landsize':'float',\n",
    "                   'BuildingArea':'float',\n",
    "                   'YearBuilt':'float',\n",
    "                   'CouncilArea':'str',\n",
    "                   'Lattitude':'float',\n",
    "                   'Longtitude':'float',\n",
    "                   'Regionname':'str',\n",
    "                   'Propertycount':'str'\n",
    "               })\n",
    "df.head()"
   ]
  },
  {
   "cell_type": "markdown",
   "metadata": {},
   "source": [
    "Descripción de las variables numéricas:"
   ]
  },
  {
   "cell_type": "code",
   "execution_count": 3,
   "metadata": {},
   "outputs": [
    {
     "data": {
      "text/html": [
       "<div>\n",
       "<style scoped>\n",
       "    .dataframe tbody tr th:only-of-type {\n",
       "        vertical-align: middle;\n",
       "    }\n",
       "\n",
       "    .dataframe tbody tr th {\n",
       "        vertical-align: top;\n",
       "    }\n",
       "\n",
       "    .dataframe thead th {\n",
       "        text-align: right;\n",
       "    }\n",
       "</style>\n",
       "<table border=\"1\" class=\"dataframe\">\n",
       "  <thead>\n",
       "    <tr style=\"text-align: right;\">\n",
       "      <th></th>\n",
       "      <th>Rooms</th>\n",
       "      <th>Price</th>\n",
       "      <th>Distance</th>\n",
       "      <th>Bedroom2</th>\n",
       "      <th>Bathroom</th>\n",
       "      <th>Car</th>\n",
       "      <th>Landsize</th>\n",
       "      <th>BuildingArea</th>\n",
       "      <th>YearBuilt</th>\n",
       "      <th>Lattitude</th>\n",
       "      <th>Longtitude</th>\n",
       "    </tr>\n",
       "  </thead>\n",
       "  <tbody>\n",
       "    <tr>\n",
       "      <th>count</th>\n",
       "      <td>13580.000000</td>\n",
       "      <td>1.358000e+04</td>\n",
       "      <td>13580.000000</td>\n",
       "      <td>13580.000000</td>\n",
       "      <td>13580.000000</td>\n",
       "      <td>13518.000000</td>\n",
       "      <td>13580.000000</td>\n",
       "      <td>7130.000000</td>\n",
       "      <td>8205.000000</td>\n",
       "      <td>13580.000000</td>\n",
       "      <td>13580.000000</td>\n",
       "    </tr>\n",
       "    <tr>\n",
       "      <th>mean</th>\n",
       "      <td>2.937997</td>\n",
       "      <td>1.075684e+06</td>\n",
       "      <td>10.137776</td>\n",
       "      <td>2.914728</td>\n",
       "      <td>1.534242</td>\n",
       "      <td>1.610075</td>\n",
       "      <td>558.416127</td>\n",
       "      <td>151.967650</td>\n",
       "      <td>1964.684217</td>\n",
       "      <td>-37.809203</td>\n",
       "      <td>144.995216</td>\n",
       "    </tr>\n",
       "    <tr>\n",
       "      <th>std</th>\n",
       "      <td>0.955748</td>\n",
       "      <td>6.393107e+05</td>\n",
       "      <td>5.868725</td>\n",
       "      <td>0.965921</td>\n",
       "      <td>0.691712</td>\n",
       "      <td>0.962634</td>\n",
       "      <td>3990.669241</td>\n",
       "      <td>541.014538</td>\n",
       "      <td>37.273762</td>\n",
       "      <td>0.079260</td>\n",
       "      <td>0.103916</td>\n",
       "    </tr>\n",
       "    <tr>\n",
       "      <th>min</th>\n",
       "      <td>1.000000</td>\n",
       "      <td>8.500000e+04</td>\n",
       "      <td>0.000000</td>\n",
       "      <td>0.000000</td>\n",
       "      <td>0.000000</td>\n",
       "      <td>0.000000</td>\n",
       "      <td>0.000000</td>\n",
       "      <td>0.000000</td>\n",
       "      <td>1196.000000</td>\n",
       "      <td>-38.182550</td>\n",
       "      <td>144.431810</td>\n",
       "    </tr>\n",
       "    <tr>\n",
       "      <th>25%</th>\n",
       "      <td>2.000000</td>\n",
       "      <td>6.500000e+05</td>\n",
       "      <td>6.100000</td>\n",
       "      <td>2.000000</td>\n",
       "      <td>1.000000</td>\n",
       "      <td>1.000000</td>\n",
       "      <td>177.000000</td>\n",
       "      <td>93.000000</td>\n",
       "      <td>1940.000000</td>\n",
       "      <td>-37.856822</td>\n",
       "      <td>144.929600</td>\n",
       "    </tr>\n",
       "    <tr>\n",
       "      <th>50%</th>\n",
       "      <td>3.000000</td>\n",
       "      <td>9.030000e+05</td>\n",
       "      <td>9.200000</td>\n",
       "      <td>3.000000</td>\n",
       "      <td>1.000000</td>\n",
       "      <td>2.000000</td>\n",
       "      <td>440.000000</td>\n",
       "      <td>126.000000</td>\n",
       "      <td>1970.000000</td>\n",
       "      <td>-37.802355</td>\n",
       "      <td>145.000100</td>\n",
       "    </tr>\n",
       "    <tr>\n",
       "      <th>75%</th>\n",
       "      <td>3.000000</td>\n",
       "      <td>1.330000e+06</td>\n",
       "      <td>13.000000</td>\n",
       "      <td>3.000000</td>\n",
       "      <td>2.000000</td>\n",
       "      <td>2.000000</td>\n",
       "      <td>651.000000</td>\n",
       "      <td>174.000000</td>\n",
       "      <td>1999.000000</td>\n",
       "      <td>-37.756400</td>\n",
       "      <td>145.058305</td>\n",
       "    </tr>\n",
       "    <tr>\n",
       "      <th>max</th>\n",
       "      <td>10.000000</td>\n",
       "      <td>9.000000e+06</td>\n",
       "      <td>48.100000</td>\n",
       "      <td>20.000000</td>\n",
       "      <td>8.000000</td>\n",
       "      <td>10.000000</td>\n",
       "      <td>433014.000000</td>\n",
       "      <td>44515.000000</td>\n",
       "      <td>2018.000000</td>\n",
       "      <td>-37.408530</td>\n",
       "      <td>145.526350</td>\n",
       "    </tr>\n",
       "  </tbody>\n",
       "</table>\n",
       "</div>"
      ],
      "text/plain": [
       "              Rooms         Price      Distance      Bedroom2      Bathroom  \\\n",
       "count  13580.000000  1.358000e+04  13580.000000  13580.000000  13580.000000   \n",
       "mean       2.937997  1.075684e+06     10.137776      2.914728      1.534242   \n",
       "std        0.955748  6.393107e+05      5.868725      0.965921      0.691712   \n",
       "min        1.000000  8.500000e+04      0.000000      0.000000      0.000000   \n",
       "25%        2.000000  6.500000e+05      6.100000      2.000000      1.000000   \n",
       "50%        3.000000  9.030000e+05      9.200000      3.000000      1.000000   \n",
       "75%        3.000000  1.330000e+06     13.000000      3.000000      2.000000   \n",
       "max       10.000000  9.000000e+06     48.100000     20.000000      8.000000   \n",
       "\n",
       "                Car       Landsize  BuildingArea    YearBuilt     Lattitude  \\\n",
       "count  13518.000000   13580.000000   7130.000000  8205.000000  13580.000000   \n",
       "mean       1.610075     558.416127    151.967650  1964.684217    -37.809203   \n",
       "std        0.962634    3990.669241    541.014538    37.273762      0.079260   \n",
       "min        0.000000       0.000000      0.000000  1196.000000    -38.182550   \n",
       "25%        1.000000     177.000000     93.000000  1940.000000    -37.856822   \n",
       "50%        2.000000     440.000000    126.000000  1970.000000    -37.802355   \n",
       "75%        2.000000     651.000000    174.000000  1999.000000    -37.756400   \n",
       "max       10.000000  433014.000000  44515.000000  2018.000000    -37.408530   \n",
       "\n",
       "         Longtitude  \n",
       "count  13580.000000  \n",
       "mean     144.995216  \n",
       "std        0.103916  \n",
       "min      144.431810  \n",
       "25%      144.929600  \n",
       "50%      145.000100  \n",
       "75%      145.058305  \n",
       "max      145.526350  "
      ]
     },
     "execution_count": 3,
     "metadata": {},
     "output_type": "execute_result"
    }
   ],
   "source": [
    "df.describe()"
   ]
  },
  {
   "cell_type": "markdown",
   "metadata": {},
   "source": [
    "Observamos que existen valores nulos en algunas variables:"
   ]
  },
  {
   "cell_type": "code",
   "execution_count": 4,
   "metadata": {
    "scrolled": true
   },
   "outputs": [
    {
     "data": {
      "text/plain": [
       "Suburb           False\n",
       "Rooms            False\n",
       "Type             False\n",
       "Price            False\n",
       "SellerG          False\n",
       "Distance         False\n",
       "Postcode         False\n",
       "Bedroom2         False\n",
       "Bathroom         False\n",
       "Car               True\n",
       "Landsize         False\n",
       "BuildingArea      True\n",
       "YearBuilt         True\n",
       "CouncilArea       True\n",
       "Lattitude        False\n",
       "Longtitude       False\n",
       "Regionname       False\n",
       "Propertycount    False\n",
       "dtype: bool"
      ]
     },
     "execution_count": 4,
     "metadata": {},
     "output_type": "execute_result"
    }
   ],
   "source": [
    "df.isnull().any()"
   ]
  },
  {
   "cell_type": "markdown",
   "metadata": {},
   "source": [
    "Dividimos el dataset en Train (80%) y Test (20%) cogiendo como variable objetivo (`y`) el precio (`Price`):"
   ]
  },
  {
   "cell_type": "code",
   "execution_count": 5,
   "metadata": {},
   "outputs": [],
   "source": [
    "X_train, X_test, y_train, y_test = train_test_split(df.drop('Price', axis=1), \n",
    "                                                    df['Price'], \n",
    "                                                    test_size=0.2,\n",
    "                                                    random_state=707)"
   ]
  },
  {
   "cell_type": "markdown",
   "metadata": {},
   "source": [
    "Creamos listados de las columnas numéricas y categóricas que nos resultarán útiles a la hora de realizar el preprocesado:"
   ]
  },
  {
   "cell_type": "code",
   "execution_count": 6,
   "metadata": {},
   "outputs": [],
   "source": [
    "numeric_cols = ['Rooms', 'Distance', 'Bedroom2', 'Bathroom', \n",
    "                'Car', 'Landsize', 'BuildingArea', 'YearBuilt', \n",
    "                'Lattitude', 'Longtitude', 'Propertycount']\n",
    "categoric_cols = ['Suburb', 'Type', 'SellerG', 'Postcode', \n",
    "                  'CouncilArea','Regionname',]"
   ]
  },
  {
   "cell_type": "markdown",
   "metadata": {},
   "source": [
    "### Iteración 1: Nuestro primer Pipeline\n",
    "\n",
    "A continuación vamos a crear nuestro primer pipeline. En esta primera aproximación **sólo utilizaremos las variables numéricas**.\n",
    "\n",
    "![Primer Pipeline](imgs/primer_pipeline.png)"
   ]
  },
  {
   "cell_type": "markdown",
   "metadata": {},
   "source": [
    "Para crear nuestros pipeline primero definimos cada uno de los objetos del mismo:\n",
    "1. Imputar nulos mediante `SimpleImputer`\n",
    "2. Reescalar los datos con `StandardScaler`\n",
    "3. Regresión lineal mediante `LinearRegression`"
   ]
  },
  {
   "cell_type": "code",
   "execution_count": 7,
   "metadata": {},
   "outputs": [],
   "source": [
    "num_imputer = SimpleImputer(strategy='median')\n",
    "scaler = StandardScaler()\n",
    "lr = LinearRegression()"
   ]
  },
  {
   "cell_type": "markdown",
   "metadata": {},
   "source": [
    "Creamos una lista de tuplas en las que cada tupla corresponde a un par de `('nombre del paso', objeto)`."
   ]
  },
  {
   "cell_type": "code",
   "execution_count": 8,
   "metadata": {},
   "outputs": [],
   "source": [
    "steps = [\n",
    "    ('numeric_imputer', num_imputer),\n",
    "    ('scaler', scaler),\n",
    "    ('regressor', lr)\n",
    "]"
   ]
  },
  {
   "cell_type": "markdown",
   "metadata": {},
   "source": [
    "Para crear el pipeline sólo tenemos que utilizar `Pipeline` de scikit-learn y pasarle la lista de tuplas:"
   ]
  },
  {
   "cell_type": "code",
   "execution_count": 9,
   "metadata": {},
   "outputs": [],
   "source": [
    "pipeline_first = Pipeline(steps)"
   ]
  },
  {
   "cell_type": "markdown",
   "metadata": {},
   "source": [
    "#### ¿Cómo podemos utilizar los pipelines?\n",
    "##### transform\n",
    "Cuando utilizamos el método `transform` en el pipeline es como si hiciemos `transform` uno a uno en cada uno de los objetos:\n",
    "![transform](imgs/transform.png)"
   ]
  },
  {
   "cell_type": "code",
   "execution_count": 10,
   "metadata": {},
   "outputs": [
    {
     "ename": "AttributeError",
     "evalue": "'LinearRegression' object has no attribute 'transform'",
     "output_type": "error",
     "traceback": [
      "\u001b[0;31m---------------------------------------------------------------------------\u001b[0m",
      "\u001b[0;31mAttributeError\u001b[0m                            Traceback (most recent call last)",
      "\u001b[0;32m<ipython-input-10-b47fbfe0326d>\u001b[0m in \u001b[0;36m<module>\u001b[0;34m\u001b[0m\n\u001b[0;32m----> 1\u001b[0;31m \u001b[0mpipeline_first\u001b[0m\u001b[0;34m.\u001b[0m\u001b[0mtransform\u001b[0m\u001b[0;34m(\u001b[0m\u001b[0mX_train\u001b[0m\u001b[0;34m[\u001b[0m\u001b[0mnumeric_cols\u001b[0m\u001b[0;34m]\u001b[0m\u001b[0;34m,\u001b[0m \u001b[0my_train\u001b[0m\u001b[0;34m)\u001b[0m\u001b[0;34m\u001b[0m\u001b[0;34m\u001b[0m\u001b[0m\n\u001b[0m",
      "\u001b[0;32m~/anaconda3/envs/dk_pipelines_workshop/lib/python3.8/site-packages/sklearn/pipeline.py\u001b[0m in \u001b[0;36mtransform\u001b[0;34m(self)\u001b[0m\n\u001b[1;32m    541\u001b[0m         \u001b[0;31m# XXX: Handling the None case means we can't use if_delegate_has_method\u001b[0m\u001b[0;34m\u001b[0m\u001b[0;34m\u001b[0m\u001b[0;34m\u001b[0m\u001b[0m\n\u001b[1;32m    542\u001b[0m         \u001b[0;32mif\u001b[0m \u001b[0mself\u001b[0m\u001b[0;34m.\u001b[0m\u001b[0m_final_estimator\u001b[0m \u001b[0;34m!=\u001b[0m \u001b[0;34m'passthrough'\u001b[0m\u001b[0;34m:\u001b[0m\u001b[0;34m\u001b[0m\u001b[0;34m\u001b[0m\u001b[0m\n\u001b[0;32m--> 543\u001b[0;31m             \u001b[0mself\u001b[0m\u001b[0;34m.\u001b[0m\u001b[0m_final_estimator\u001b[0m\u001b[0;34m.\u001b[0m\u001b[0mtransform\u001b[0m\u001b[0;34m\u001b[0m\u001b[0;34m\u001b[0m\u001b[0m\n\u001b[0m\u001b[1;32m    544\u001b[0m         \u001b[0;32mreturn\u001b[0m \u001b[0mself\u001b[0m\u001b[0;34m.\u001b[0m\u001b[0m_transform\u001b[0m\u001b[0;34m\u001b[0m\u001b[0;34m\u001b[0m\u001b[0m\n\u001b[1;32m    545\u001b[0m \u001b[0;34m\u001b[0m\u001b[0m\n",
      "\u001b[0;31mAttributeError\u001b[0m: 'LinearRegression' object has no attribute 'transform'"
     ]
    }
   ],
   "source": [
    "pipeline_first.transform(X_train[numeric_cols], y_train)"
   ]
  },
  {
   "cell_type": "markdown",
   "metadata": {},
   "source": [
    "Nos da error porque el regresor (el último paso) no tiene método `transform`.\n",
    "\n",
    "Estos son otros métodos del pipeline:\n",
    "##### fit_transform\n",
    "Cuando utilizamos el método `fit_transform` en el pipeline es como si hiciemos `fit_transform` uno a uno en cada uno de los objetos (o primero `fit` seguido de `transform` si el objeto no tiene ese método):\n",
    "![fit_transform](imgs/fit_transform.png)\n",
    "\n",
    "##### fit\n",
    "Cuando utilizamos el método `fit` en el pipeline es como si hiciemos `fit_transform` (o primero `fit` seguido de `transform` si el objeto no tiene ese método) uno a uno en cada uno de los objetos hasta llegar al último donde hace un `fit`:\n",
    "![fit](imgs/fit.png)\n",
    "\n",
    "##### predict\n",
    "Cuando utilizamos el método `predict` (funciona de la misma manera con `predict_proba`) en el pipeline es como si hiciemos `transform` uno a uno en cada uno de los objetos hasta llegar al último donde hace un `predict`.:\n",
    "![predict](imgs/predict.png)\n",
    "\n",
    "Vamos a probar a entrenar nuestro pipeline:"
   ]
  },
  {
   "cell_type": "code",
   "execution_count": 11,
   "metadata": {},
   "outputs": [
    {
     "data": {
      "text/plain": [
       "Pipeline(steps=[('numeric_imputer', SimpleImputer(strategy='median')),\n",
       "                ('scaler', StandardScaler()),\n",
       "                ('regressor', LinearRegression())])"
      ]
     },
     "execution_count": 11,
     "metadata": {},
     "output_type": "execute_result"
    }
   ],
   "source": [
    "pipeline_first.fit(X_train[numeric_cols], y_train)"
   ]
  },
  {
   "cell_type": "markdown",
   "metadata": {},
   "source": [
    "Realizamos una predicción del dataset de train y calculamos la raíz del error cuadrático medio que será nuestra métrica en este workshop:"
   ]
  },
  {
   "cell_type": "code",
   "execution_count": 12,
   "metadata": {},
   "outputs": [
    {
     "data": {
      "text/plain": [
       "442318.51141938695"
      ]
     },
     "execution_count": 12,
     "metadata": {},
     "output_type": "execute_result"
    }
   ],
   "source": [
    "y_train_pred = pipeline_first.predict(X_train[numeric_cols])\n",
    "mean_squared_error(y_train, y_train_pred, squared=False)"
   ]
  },
  {
   "cell_type": "markdown",
   "metadata": {},
   "source": [
    "Podemos acceder a un objeto particular del pipeline indexándolo por el nombre que le hemos dado:"
   ]
  },
  {
   "cell_type": "code",
   "execution_count": 13,
   "metadata": {},
   "outputs": [
    {
     "data": {
      "text/plain": [
       "LinearRegression()"
      ]
     },
     "execution_count": 13,
     "metadata": {},
     "output_type": "execute_result"
    }
   ],
   "source": [
    "pipeline_first['regressor']"
   ]
  },
  {
   "cell_type": "markdown",
   "metadata": {},
   "source": [
    "O por su posición utilizando `steps`:"
   ]
  },
  {
   "cell_type": "code",
   "execution_count": 14,
   "metadata": {},
   "outputs": [
    {
     "data": {
      "text/plain": [
       "('numeric_imputer', SimpleImputer(strategy='median'))"
      ]
     },
     "execution_count": 14,
     "metadata": {},
     "output_type": "execute_result"
    }
   ],
   "source": [
    "pipeline_first.steps[0]"
   ]
  },
  {
   "cell_type": "markdown",
   "metadata": {},
   "source": [
    "En este caso hemos accedido a la tupla, para poder apuntar al objeto tenemos que quedarnos con el objeto que está en la posición `1`:"
   ]
  },
  {
   "cell_type": "code",
   "execution_count": 15,
   "metadata": {},
   "outputs": [
    {
     "data": {
      "text/plain": [
       "SimpleImputer(strategy='median')"
      ]
     },
     "execution_count": 15,
     "metadata": {},
     "output_type": "execute_result"
    }
   ],
   "source": [
    "pipeline_first.steps[0][1]"
   ]
  },
  {
   "cell_type": "markdown",
   "metadata": {},
   "source": [
    "Si queremos cambiar el regresor sólo tenemos que volver a crear el Pipeline cambiando el paso del regresor. Como se puede ver sería muy fácil iterar con distintos regresores para poder evaluarlos:"
   ]
  },
  {
   "cell_type": "code",
   "execution_count": 16,
   "metadata": {},
   "outputs": [
    {
     "data": {
      "text/plain": [
       "110663.79516056443"
      ]
     },
     "execution_count": 16,
     "metadata": {},
     "output_type": "execute_result"
    }
   ],
   "source": [
    "rf = RandomForestRegressor()\n",
    "\n",
    "steps = [\n",
    "    ('numeric_imputer', num_imputer),\n",
    "    ('scaler', scaler),\n",
    "    ('regressor', rf)\n",
    "]\n",
    "\n",
    "pipeline_second = Pipeline(steps)\n",
    "pipeline_second.fit(X_train[numeric_cols], y_train)\n",
    "\n",
    "y_train_pred = pipeline_second.predict(X_train[numeric_cols])\n",
    "mean_squared_error(y_train, y_train_pred, squared=False)"
   ]
  },
  {
   "cell_type": "markdown",
   "metadata": {},
   "source": [
    "### Iteración 2: Pipeline sencillo utilizando FunctionTransformer y validación cruzada\n",
    "\n",
    "El anterior pipeline sólo podía operar con variables numéricas. Vamos a añadirle un paso previo para que seleccione las variables numéricas y así poder utilizarlo con el dataste completo.\n",
    "\n",
    "Nuestro pipeline quedaría así:\n",
    "\n",
    "![Pipeline Sencillo](imgs/pipeline_sencillo.png)\n",
    "\n",
    "#### Definimos una función para seleccionar variables\n",
    "Para crear nuestro selector de variables numéricas vamos a crear una función que dado un dataframe devuelve sólo las variables de tipo `int` y `float`:\n"
   ]
  },
  {
   "cell_type": "code",
   "execution_count": 17,
   "metadata": {},
   "outputs": [],
   "source": [
    "def select_numeric(df):\n",
    "    return df.select_dtypes(include=['int', 'float'])"
   ]
  },
  {
   "cell_type": "markdown",
   "metadata": {},
   "source": [
    "#### FunctionTransformer\n",
    "\n",
    "Para convertir esta función en un transformador compatible con los pipelines de scikit-learn es tan sencillo como utilizar `FunctionTransformer`:"
   ]
  },
  {
   "cell_type": "code",
   "execution_count": 18,
   "metadata": {},
   "outputs": [],
   "source": [
    "sel_numeric = FunctionTransformer(select_numeric)"
   ]
  },
  {
   "cell_type": "markdown",
   "metadata": {},
   "source": [
    "Creamos el pipeline tal y como hemos hecho antes:"
   ]
  },
  {
   "cell_type": "code",
   "execution_count": 19,
   "metadata": {},
   "outputs": [],
   "source": [
    "steps = [\n",
    "    ('select_numeric', sel_numeric),\n",
    "    ('numeric_imputer', num_imputer),\n",
    "    ('scaler', scaler),\n",
    "    ('regressor', rf)\n",
    "]\n",
    "pipeline_easy = Pipeline(steps)"
   ]
  },
  {
   "cell_type": "markdown",
   "metadata": {},
   "source": [
    "Como no tenemos muchos datos vamos a utilizar una búsqueda de hiperparámetros aleatoria con validación cruzada. Es tan sencillo como utilizar nuestro pipeline como estimador del `RandomizedSearchCV`. Para definir la parrilla de hiperparámetros pondremos primero el nombre del paso del pipeline (`regressor`), seguido de doble barra baja (`__`) y seguido del nombre del parámetro (`max_depth`):"
   ]
  },
  {
   "cell_type": "code",
   "execution_count": 20,
   "metadata": {},
   "outputs": [
    {
     "data": {
      "text/plain": [
       "RandomizedSearchCV(cv=5,\n",
       "                   estimator=Pipeline(steps=[('select_numeric',\n",
       "                                              FunctionTransformer(func=<function select_numeric at 0x7f548fa560d0>)),\n",
       "                                             ('numeric_imputer',\n",
       "                                              SimpleImputer(strategy='median')),\n",
       "                                             ('scaler', StandardScaler()),\n",
       "                                             ('regressor',\n",
       "                                              RandomForestRegressor())]),\n",
       "                   n_jobs=10,\n",
       "                   param_distributions={'regressor__bootstrap': [True],\n",
       "                                        'regressor__max_depth': [80, 90, 100,\n",
       "                                                                 110],\n",
       "                                        'regressor__max_features': [2, 3],\n",
       "                                        'regressor__min_samples_leaf': [3, 4,\n",
       "                                                                        5],\n",
       "                                        'regressor__min_samples_split': [8, 10,\n",
       "                                                                         12],\n",
       "                                        'regressor__n_estimators': [100, 200,\n",
       "                                                                    300,\n",
       "                                                                    1000]},\n",
       "                   random_state=707, scoring='neg_root_mean_squared_error')"
      ]
     },
     "execution_count": 20,
     "metadata": {},
     "output_type": "execute_result"
    }
   ],
   "source": [
    "param_grid = {\n",
    "    'regressor__bootstrap': [True],\n",
    "    'regressor__max_depth': [80, 90, 100, 110],\n",
    "    'regressor__max_features': [2, 3],\n",
    "    'regressor__min_samples_leaf': [3, 4, 5],\n",
    "    'regressor__min_samples_split': [8, 10, 12],\n",
    "    'regressor__n_estimators': [100, 200, 300, 1000]\n",
    "}\n",
    "\n",
    "rscv = RandomizedSearchCV(pipeline_easy, \n",
    "                          cv=5, \n",
    "                          n_iter=10, \n",
    "                          n_jobs=10, \n",
    "                          param_distributions=param_grid, \n",
    "                          scoring='neg_root_mean_squared_error',\n",
    "                          random_state=707)\n",
    "\n",
    "rscv.fit(X_train, y_train)"
   ]
  },
  {
   "cell_type": "code",
   "execution_count": 21,
   "metadata": {},
   "outputs": [
    {
     "data": {
      "text/plain": [
       "303838.8695844693"
      ]
     },
     "execution_count": 21,
     "metadata": {},
     "output_type": "execute_result"
    }
   ],
   "source": [
    "-rscv.best_score_"
   ]
  },
  {
   "cell_type": "markdown",
   "metadata": {},
   "source": [
    "### Iteración 3: Anidando pipelines\n",
    "\n",
    "Vamos a incluir las variables categóricas a nuestro modelo. Para ello:\n",
    "1. Vamos crear un pipeline de dos pasos para el **preprocesado de las variables numéricas** (imputación de nulos y reescalado).\n",
    "2. Vamos a crer un **encoder ordinal para las variables categóricas** mediante `OrdinalEncoder`. Como incluye funcionalidad para tratamiento de nulos no necesitamos más pasos.\n",
    "3. Vamos a juntar ambos procesos mediante `ColumnTransformer`.\n",
    "\n",
    "![Pipeline Medio](imgs/pipeline_medio.png)\n",
    "\n",
    "#### ColumnTransformer\n",
    "Se define de forma similar a los pipelines. Tenemos que dar una tupla de tres con `('nombre del paso', objeto, lista de columnas)`"
   ]
  },
  {
   "cell_type": "code",
   "execution_count": 22,
   "metadata": {},
   "outputs": [],
   "source": [
    "pipeline_num = Pipeline([('numeric_imputer', num_imputer), ('scaler', scaler)])\n",
    "encoder = OrdinalEncoder()\n",
    "preprocessing = ColumnTransformer([('numeric_prep', pipeline_num, numeric_cols),\n",
    "                                   ('categoric_prep', encoder, categoric_cols)])"
   ]
  },
  {
   "cell_type": "markdown",
   "metadata": {},
   "source": [
    "Finalmente creamos un pipeline con el preprocesado que hemos definido anteriormente y nuestro regresor:"
   ]
  },
  {
   "cell_type": "code",
   "execution_count": 23,
   "metadata": {},
   "outputs": [],
   "source": [
    "pipeline_medium = Pipeline([('preprocessing', preprocessing), ('regressor', rf)])"
   ]
  },
  {
   "cell_type": "markdown",
   "metadata": {},
   "source": [
    "Entrenamos con busqueda de hiperparámetros y validación cruzada:"
   ]
  },
  {
   "cell_type": "code",
   "execution_count": 24,
   "metadata": {},
   "outputs": [
    {
     "data": {
      "text/plain": [
       "RandomizedSearchCV(cv=5,\n",
       "                   estimator=Pipeline(steps=[('preprocessing',\n",
       "                                              ColumnTransformer(transformers=[('numeric_prep',\n",
       "                                                                               Pipeline(steps=[('numeric_imputer',\n",
       "                                                                                                SimpleImputer(strategy='median')),\n",
       "                                                                                               ('scaler',\n",
       "                                                                                                StandardScaler())]),\n",
       "                                                                               ['Rooms',\n",
       "                                                                                'Distance',\n",
       "                                                                                'Bedroom2',\n",
       "                                                                                'Bathroom',\n",
       "                                                                                'Car',\n",
       "                                                                                'Landsize',\n",
       "                                                                                'BuildingArea',\n",
       "                                                                                'YearBuilt',\n",
       "                                                                                'Lattitude',\n",
       "                                                                                'Longtitude',\n",
       "                                                                                'Propertycount']),\n",
       "                                                                              ('categ...\n",
       "                                             ('regressor',\n",
       "                                              RandomForestRegressor())]),\n",
       "                   n_jobs=10,\n",
       "                   param_distributions={'regressor__bootstrap': [True],\n",
       "                                        'regressor__max_depth': [80, 90, 100,\n",
       "                                                                 110],\n",
       "                                        'regressor__max_features': [2, 3],\n",
       "                                        'regressor__min_samples_leaf': [3, 4,\n",
       "                                                                        5],\n",
       "                                        'regressor__min_samples_split': [8, 10,\n",
       "                                                                         12],\n",
       "                                        'regressor__n_estimators': [100, 200,\n",
       "                                                                    300,\n",
       "                                                                    1000]},\n",
       "                   random_state=707, scoring='neg_root_mean_squared_error')"
      ]
     },
     "execution_count": 24,
     "metadata": {},
     "output_type": "execute_result"
    }
   ],
   "source": [
    "rscv = RandomizedSearchCV(pipeline_medium, \n",
    "                          cv=5, \n",
    "                          n_iter=10, \n",
    "                          n_jobs=10, \n",
    "                          param_distributions=param_grid, \n",
    "                          scoring='neg_root_mean_squared_error',\n",
    "                          random_state=707)\n",
    "rscv.fit(X_train, y_train)"
   ]
  },
  {
   "cell_type": "code",
   "execution_count": 25,
   "metadata": {},
   "outputs": [
    {
     "data": {
      "text/plain": [
       "297781.3830839062"
      ]
     },
     "execution_count": 25,
     "metadata": {},
     "output_type": "execute_result"
    }
   ],
   "source": [
    "-rscv.best_score_"
   ]
  },
  {
   "cell_type": "markdown",
   "metadata": {},
   "source": [
    "### Iteración 4: Pipeline Avanzado con Target Encoding"
   ]
  },
  {
   "cell_type": "markdown",
   "metadata": {},
   "source": [
    "Vamos a añadir un encoder más complejo para aquellas variables categóricas de dimensionalidad alta. Para ello vamos a utilizar una variante de 'target encoder' llámada `LeaveOneOutEncoder`. Este tipo de encoders son muy potentes porque utilizan el target para codificar las variables categoricas capturando así correlaciones que puedan existir. Sin embargo, tienen un riesgo muy alto de sobreajustar, ya que se ha utilizado la información del target en el proceso. No es objeto de este taller, pero quien esté más intersado puede obtener más información sobre 'target encoding' aquí: [https://brendanhasz.github.io/2019/03/04/target-encoding](https://brendanhasz.github.io/2019/03/04/target-encoding) \n",
    "\n",
    "**Nota friki:** Target Encoding se utiliza mucho en las competiciones de Kaggle.\n",
    "\n",
    "Nuestro pipeline quedaría tal que así:\n",
    "\n",
    "![Pipeline Avanzado](imgs/pipeline_avanzado.png)"
   ]
  },
  {
   "cell_type": "code",
   "execution_count": 26,
   "metadata": {},
   "outputs": [],
   "source": [
    "target_encoder = LeaveOneOutEncoder()\n",
    "preprocessing = ColumnTransformer([('numeric_prep', pipeline_num, numeric_cols),\n",
    "                                   ('ordindal_encoder', encoder, ['Type', 'CouncilArea', 'Regionname']),\n",
    "                                   ('target_encoder', target_encoder, ['Suburb', 'SellerG', 'Postcode'])])\n",
    "pipeline_advanced = Pipeline([('preprocessing', preprocessing), ('regressor', rf)])"
   ]
  },
  {
   "cell_type": "markdown",
   "metadata": {},
   "source": [
    "El target encoder tiene sus propios hiperparámetros de regularización para evitar el sobreajuste.\n",
    "\n",
    "#### ¿Cómo sabemos que valor es el correcto?\n",
    "\n",
    "Aquí empezamos a ver el verdadero valor de los pipelines de scikit-learn. Como vamos a todo el proceso por validación cruzada, podemos hacer una búsqueda de los hiperparámetros de los transformadores de la misma manera que lo hacemos habitualmente con los estimadores.\n",
    "\n",
    "Si hubiese realizado el encoding sin utilizar pipelines, antes de aplicar validación cruzada estaría podría 'comer' todo el overfitting en el proceso de validación y llevarme una sorpresa desagradable al realizar el test.\n",
    "\n",
    "\n",
    "![Cross Validation](imgs/cross_validation_EN.png)\n",
    "<p style='text-align: right;'>source: Wikipedia</p>\n",
    "\n",
    "\n",
    "Podemos incluir el parámetro `sigma` de `LeaveOneOutEncoder` en la parrilla anidando barras bajas dobles (tenemos que bajar dos niveles):\n",
    "`preprocessing__target_encoder__sigma`."
   ]
  },
  {
   "cell_type": "code",
   "execution_count": 27,
   "metadata": {},
   "outputs": [
    {
     "data": {
      "text/plain": [
       "RandomizedSearchCV(cv=5,\n",
       "                   estimator=Pipeline(steps=[('preprocessing',\n",
       "                                              ColumnTransformer(transformers=[('numeric_prep',\n",
       "                                                                               Pipeline(steps=[('numeric_imputer',\n",
       "                                                                                                SimpleImputer(strategy='median')),\n",
       "                                                                                               ('scaler',\n",
       "                                                                                                StandardScaler())]),\n",
       "                                                                               ['Rooms',\n",
       "                                                                                'Distance',\n",
       "                                                                                'Bedroom2',\n",
       "                                                                                'Bathroom',\n",
       "                                                                                'Car',\n",
       "                                                                                'Landsize',\n",
       "                                                                                'BuildingArea',\n",
       "                                                                                'YearBuilt',\n",
       "                                                                                'Lattitude',\n",
       "                                                                                'Longtitude',\n",
       "                                                                                'Propertycount']),\n",
       "                                                                              ('ordin...\n",
       "                   param_distributions={'preprocessing__target_encoder__sigma': [0.01,\n",
       "                                                                                 0.02,\n",
       "                                                                                 0.03,\n",
       "                                                                                 0.04,\n",
       "                                                                                 0.05,\n",
       "                                                                                 0.06],\n",
       "                                        'regressor__bootstrap': [True],\n",
       "                                        'regressor__max_depth': [80, 90, 100,\n",
       "                                                                 110],\n",
       "                                        'regressor__max_features': [2, 3],\n",
       "                                        'regressor__min_samples_leaf': [3, 4,\n",
       "                                                                        5],\n",
       "                                        'regressor__min_samples_split': [8, 10,\n",
       "                                                                         12],\n",
       "                                        'regressor__n_estimators': [100, 200,\n",
       "                                                                    300,\n",
       "                                                                    1000]},\n",
       "                   random_state=707, scoring='neg_root_mean_squared_error')"
      ]
     },
     "execution_count": 27,
     "metadata": {},
     "output_type": "execute_result"
    }
   ],
   "source": [
    "params = {\n",
    "    'preprocessing__target_encoder__sigma': [0.01, 0.02, 0.03, 0.04, 0.05, 0.06],\n",
    "    'regressor__bootstrap': [True],\n",
    "    'regressor__max_depth': [80, 90, 100, 110],\n",
    "    'regressor__max_features': [2, 3],\n",
    "    'regressor__min_samples_leaf': [3, 4, 5],\n",
    "    'regressor__min_samples_split': [8, 10, 12],\n",
    "    'regressor__n_estimators': [100, 200, 300, 1000]\n",
    "}\n",
    "\n",
    "rscv = RandomizedSearchCV(pipeline_advanced, \n",
    "                          cv=5, \n",
    "                          n_iter=20, \n",
    "                          n_jobs=10, \n",
    "                          param_distributions=params, \n",
    "                          scoring='neg_root_mean_squared_error',\n",
    "                          random_state=707)\n",
    "rscv.fit(X_train, y_train)"
   ]
  },
  {
   "cell_type": "code",
   "execution_count": 28,
   "metadata": {},
   "outputs": [
    {
     "data": {
      "text/plain": [
       "{'regressor__n_estimators': 1000,\n",
       " 'regressor__min_samples_split': 8,\n",
       " 'regressor__min_samples_leaf': 3,\n",
       " 'regressor__max_features': 3,\n",
       " 'regressor__max_depth': 80,\n",
       " 'regressor__bootstrap': True,\n",
       " 'preprocessing__target_encoder__sigma': 0.02}"
      ]
     },
     "execution_count": 28,
     "metadata": {},
     "output_type": "execute_result"
    }
   ],
   "source": [
    "rscv.best_params_"
   ]
  },
  {
   "cell_type": "code",
   "execution_count": 29,
   "metadata": {},
   "outputs": [
    {
     "data": {
      "text/plain": [
       "293219.0817032045"
      ]
     },
     "execution_count": 29,
     "metadata": {},
     "output_type": "execute_result"
    }
   ],
   "source": [
    "-rscv.best_score_"
   ]
  },
  {
   "cell_type": "markdown",
   "metadata": {},
   "source": [
    "### Iteración 5: Pipeline Avanzado con Transformadores Propios\n",
    "\n",
    "Podemos incluir nuestros propios transformadores en los pipelines. Para ello tenemos que definir una clase con los métodos `fit` y `transform`. Si utilizamos `BaseEstimator` de sckit-learn la añadira los métodos para añadir y extraer parámetros. Si utilizamos `TransformerMixin` le añadirá el método `fit_transform` de manera automática.\n",
    "\n",
    "Vamos a realizar un cluster espacial para añadir la misma etiqueta a aquellas viviendas que se encuentran cerca. Esto puede aportarnos un valor más objetivo que los barrios en los que están las viviendas.\n",
    "\n",
    "Definimos la clase utilizando KMeans:"
   ]
  },
  {
   "cell_type": "code",
   "execution_count": 30,
   "metadata": {},
   "outputs": [],
   "source": [
    "class KMeansLatLon(BaseEstimator, TransformerMixin):\n",
    "    def __init__(self, columns, n_clusters=10):\n",
    "        self.columns = columns\n",
    "        self.n_clusters = n_clusters\n",
    "        self.model = KMeans(n_clusters=self.n_clusters)\n",
    "\n",
    "    def fit(self, X, y=None):\n",
    "        self.model.fit(X[self.columns])\n",
    "        return self\n",
    "\n",
    "    def transform(self, X, y=None):\n",
    "        data = X.copy()\n",
    "        pred = self.model.predict(data[self.columns])\n",
    "        data['LatLonCluster'] = pred\n",
    "        return data "
   ]
  },
  {
   "cell_type": "markdown",
   "metadata": {},
   "source": [
    "Veamos como funciona esta clase:"
   ]
  },
  {
   "cell_type": "code",
   "execution_count": 31,
   "metadata": {},
   "outputs": [
    {
     "data": {
      "text/plain": [
       "<matplotlib.collections.PathCollection at 0x7f54d3f743a0>"
      ]
     },
     "execution_count": 31,
     "metadata": {},
     "output_type": "execute_result"
    },
    {
     "data": {
      "image/png": "[encoded data removed]",
      "text/plain": [
       "<Figure size 432x288 with 1 Axes>"
      ]
     },
     "metadata": {
      "needs_background": "light"
     },
     "output_type": "display_data"
    }
   ],
   "source": [
    "example_cluster = KMeansLatLon(['Lattitude', 'Longtitude'], n_clusters=20)\n",
    "X_train_cluster = example_cluster.fit_transform(X_train)\n",
    "plt.scatter(X_train_cluster['Lattitude'],\n",
    "            X_train_cluster['Longtitude'],\n",
    "            c = X_train_cluster['LatLonCluster'],\n",
    "            alpha = 0.2)"
   ]
  },
  {
   "cell_type": "markdown",
   "metadata": {},
   "source": [
    "#### Pipeline con Custom Transformer\n",
    "\n",
    "Nuestro pipeline quedaría así:\n",
    "\n",
    "![Pipeline con Custom Transformer](imgs/pipeline_custom_transformer.png)"
   ]
  },
  {
   "cell_type": "markdown",
   "metadata": {},
   "source": [
    "Definimos un nuevo pipeline de preprocesado de numéricas (he quitado el reesaclado porque como estamos utilizando árboles no nos hace falta reescalarlo):"
   ]
  },
  {
   "cell_type": "code",
   "execution_count": 32,
   "metadata": {},
   "outputs": [],
   "source": [
    "geospatial_cluster = KMeansLatLon(['Lattitude', 'Longtitude'])\n",
    "pipeline_num = Pipeline([('geoespatial_cluster', geospatial_cluster), \n",
    "                         ('numeric_imputer', num_imputer)])"
   ]
  },
  {
   "cell_type": "markdown",
   "metadata": {},
   "source": [
    "Juntamos los preprocesados con `ColumnTransformer`:"
   ]
  },
  {
   "cell_type": "code",
   "execution_count": 33,
   "metadata": {},
   "outputs": [],
   "source": [
    "preprocessing = ColumnTransformer([('numeric_prep', pipeline_num, numeric_cols),\n",
    "                                   ('ordindal_encoder', encoder, ['Type', 'CouncilArea', 'Regionname']),\n",
    "                                   ('target_encoder', target_encoder, ['Suburb', 'SellerG', 'Postcode'])])"
   ]
  },
  {
   "cell_type": "markdown",
   "metadata": {},
   "source": [
    "Creamos el pipeline:"
   ]
  },
  {
   "cell_type": "code",
   "execution_count": 34,
   "metadata": {},
   "outputs": [],
   "source": [
    "pipeline_with_clusters = Pipeline([('preprocessing', preprocessing), ('regressor', rf)])"
   ]
  },
  {
   "cell_type": "markdown",
   "metadata": {},
   "source": [
    "Preparamos nuestra parrilla incluyendo el número de clusters como hiperparámetro y entrenamos:"
   ]
  },
  {
   "cell_type": "code",
   "execution_count": 35,
   "metadata": {},
   "outputs": [
    {
     "data": {
      "text/plain": [
       "RandomizedSearchCV(cv=5,\n",
       "                   estimator=Pipeline(steps=[('preprocessing',\n",
       "                                              ColumnTransformer(transformers=[('numeric_prep',\n",
       "                                                                               Pipeline(steps=[('geoespatial_cluster',\n",
       "                                                                                                KMeansLatLon(columns=['Lattitude',\n",
       "                                                                                                                      'Longtitude'])),\n",
       "                                                                                               ('numeric_imputer',\n",
       "                                                                                                SimpleImputer(strategy='median'))]),\n",
       "                                                                               ['Rooms',\n",
       "                                                                                'Distance',\n",
       "                                                                                'Bedroom2',\n",
       "                                                                                'Bathroom',\n",
       "                                                                                'Car',\n",
       "                                                                                'Landsize',\n",
       "                                                                                'BuildingArea',\n",
       "                                                                                'YearBuilt',\n",
       "                                                                                'Latt...\n",
       "                                        'preprocessing__target_encoder__sigma': [0.01,\n",
       "                                                                                 0.02,\n",
       "                                                                                 0.03,\n",
       "                                                                                 0.04,\n",
       "                                                                                 0.05,\n",
       "                                                                                 0.06],\n",
       "                                        'regressor__bootstrap': [True],\n",
       "                                        'regressor__max_depth': [80, 90, 100,\n",
       "                                                                 110],\n",
       "                                        'regressor__max_features': [2, 3],\n",
       "                                        'regressor__min_samples_leaf': [3, 4,\n",
       "                                                                        5],\n",
       "                                        'regressor__min_samples_split': [8, 10,\n",
       "                                                                         12],\n",
       "                                        'regressor__n_estimators': [100, 200,\n",
       "                                                                    300,\n",
       "                                                                    1000]},\n",
       "                   random_state=707, scoring='neg_root_mean_squared_error')"
      ]
     },
     "execution_count": 35,
     "metadata": {},
     "output_type": "execute_result"
    }
   ],
   "source": [
    "params = {\n",
    "    'preprocessing__numeric_prep__geoespatial_cluster__n_clusters': [5, 10, 20],\n",
    "    'preprocessing__target_encoder__sigma': [0.01, 0.02, 0.03, 0.04, 0.05, 0.06],\n",
    "    'regressor__bootstrap': [True],\n",
    "    'regressor__max_depth': [80, 90, 100, 110],\n",
    "    'regressor__max_features': [2, 3],\n",
    "    'regressor__min_samples_leaf': [3, 4, 5],\n",
    "    'regressor__min_samples_split': [8, 10, 12],\n",
    "    'regressor__n_estimators': [100, 200, 300, 1000]\n",
    "}\n",
    "\n",
    "rscv = RandomizedSearchCV(pipeline_with_clusters, \n",
    "                          cv=5, \n",
    "                          n_iter=5, \n",
    "                          n_jobs=20, \n",
    "                          param_distributions=params, \n",
    "                          scoring='neg_root_mean_squared_error',\n",
    "                          random_state=707)\n",
    "rscv.fit(X_train, y_train)"
   ]
  },
  {
   "cell_type": "code",
   "execution_count": 36,
   "metadata": {},
   "outputs": [
    {
     "data": {
      "text/plain": [
       "{'regressor__n_estimators': 200,\n",
       " 'regressor__min_samples_split': 8,\n",
       " 'regressor__min_samples_leaf': 3,\n",
       " 'regressor__max_features': 3,\n",
       " 'regressor__max_depth': 80,\n",
       " 'regressor__bootstrap': True,\n",
       " 'preprocessing__target_encoder__sigma': 0.02,\n",
       " 'preprocessing__numeric_prep__geoespatial_cluster__n_clusters': 5}"
      ]
     },
     "execution_count": 36,
     "metadata": {},
     "output_type": "execute_result"
    }
   ],
   "source": [
    "rscv.best_params_"
   ]
  },
  {
   "cell_type": "code",
   "execution_count": 37,
   "metadata": {},
   "outputs": [
    {
     "data": {
      "text/plain": [
       "294288.62904354045"
      ]
     },
     "execution_count": 37,
     "metadata": {},
     "output_type": "execute_result"
    }
   ],
   "source": [
    "-rscv.best_score_"
   ]
  },
  {
   "cell_type": "markdown",
   "metadata": {},
   "source": [
    "### Test "
   ]
  },
  {
   "cell_type": "markdown",
   "metadata": {},
   "source": [
    "Vemos nuestro resultado en test:"
   ]
  },
  {
   "cell_type": "code",
   "execution_count": 38,
   "metadata": {},
   "outputs": [
    {
     "data": {
      "text/plain": [
       "279870.7989188075"
      ]
     },
     "execution_count": 38,
     "metadata": {},
     "output_type": "execute_result"
    }
   ],
   "source": [
    "y_pred = rscv.predict(X_test)\n",
    "mean_squared_error(y_test, y_pred, squared=False)"
   ]
  },
  {
   "cell_type": "markdown",
   "metadata": {},
   "source": [
    "### Productivización "
   ]
  },
  {
   "cell_type": "markdown",
   "metadata": {},
   "source": [
    "Dado que el pipeline incluye tanto el preprocesado como el estimador, al guardar este conseguimos encapsular en un sólo fichero todo el proceso. Esto facilita muchísimo la puesta en producción posterior de los modelos (sea medaiante API o meadiante proceso batch) porque bastaría con cargar el 'pikle' que hemos generado, en lugar de ir adaptando todo el código al entorno productivo:"
   ]
  },
  {
   "cell_type": "code",
   "execution_count": 39,
   "metadata": {},
   "outputs": [
    {
     "data": {
      "text/plain": [
       "['model/trained_pipeline.pkl']"
      ]
     },
     "execution_count": 39,
     "metadata": {},
     "output_type": "execute_result"
    }
   ],
   "source": [
    "joblib.dump(rscv.best_estimator_, 'model/trained_pipeline.pkl')"
   ]
  }
 ],
 "metadata": {
  "kernelspec": {
   "display_name": "dk_pipelines_workshop",
   "language": "python",
   "name": "dk_pipelines_workshop"
  },
  "language_info": {
   "codemirror_mode": {
    "name": "ipython",
    "version": 3
   },
   "file_extension": ".py",
   "mimetype": "text/x-python",
   "name": "python",
   "nbconvert_exporter": "python",
   "pygments_lexer": "ipython3",
   "version": "3.8.5"
  }
 },
 "nbformat": 4,
 "nbformat_minor": 4
}
